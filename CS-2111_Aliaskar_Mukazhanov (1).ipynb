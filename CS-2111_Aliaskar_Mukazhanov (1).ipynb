{
 "cells": [
  {
   "cell_type": "markdown",
   "id": "1971e564",
   "metadata": {},
   "source": [
    "# Big Data in Law Enforcement\n"
   ]
  },
  {
   "cell_type": "markdown",
   "id": "2be4b5a4",
   "metadata": {},
   "source": [
    "## Introduction\n",
    "\n",
    "Big Data plays a crucial role in modern law enforcement, enabling the analysis of vast amounts of data"
   ]
  },
  {
   "cell_type": "markdown",
   "id": "2262aac1",
   "metadata": {},
   "source": [
    "*Some of the popular languages that Data Scientists use are:*\n",
    "\n",
    "1. Python\n",
    "2. R\n",
    "3. SQL"
   ]
  },
  {
   "cell_type": "markdown",
   "id": "b072830a",
   "metadata": {},
   "source": [
    "*Some of the commonly used libraries used by Data Scientists include:*\n",
    "\n",
    "- Pandas\n",
    "- NumPy\n",
    "- Scikit-Learn"
   ]
  },
  {
   "cell_type": "markdown",
   "id": "2c955d69",
   "metadata": {},
   "source": [
    "| Data Science Tools |\n",
    "| ------------------ |\n",
    "| Jupyter Notebook    |\n",
    "| Apache Spark       |\n",
    "| TensorFlow         |"
   ]
  },
  {
   "cell_type": "markdown",
   "id": "77daeb59",
   "metadata": {},
   "source": [
    "### Below are a few examples of evaluating arithmetic expressions in Python."
   ]
  },
  {
   "cell_type": "markdown",
   "id": "ef6ae8af",
   "metadata": {},
   "source": [
    "# This is a simple arithmetic expression\n"
   ]
  },
  {
   "cell_type": "code",
   "execution_count": 5,
   "id": "c049fd6b",
   "metadata": {},
   "outputs": [
    {
     "data": {
      "text/plain": [
       "33"
      ]
     },
     "execution_count": 5,
     "metadata": {},
     "output_type": "execute_result"
    }
   ],
   "source": [
    "(4 * 6) + 9\n",
    "\n"
   ]
  },
  {
   "cell_type": "markdown",
   "id": "9a9dbb31",
   "metadata": {},
   "source": [
    "# This will convert 300 minutes to hours by dividing by 60."
   ]
  },
  {
   "cell_type": "code",
   "execution_count": 6,
   "id": "0b213333",
   "metadata": {},
   "outputs": [
    {
     "data": {
      "text/plain": [
       "5.0"
      ]
     },
     "execution_count": 6,
     "metadata": {},
     "output_type": "execute_result"
    }
   ],
   "source": [
    "\n",
    "min = 300\n",
    "hours = min / 60\n",
    "hours"
   ]
  },
  {
   "cell_type": "markdown",
   "id": "7f3bd95e",
   "metadata": {},
   "source": [
    "**Objectives:**\n",
    "\n",
    "- Discuss the role of Big Data in law enforcement.\n",
    "- List popular data science languages and libraries.\n",
    "- Introduce common data science tools.\n",
    "- Provide examples of evaluating arithmetic expressions in Python.\n",
    "- Perform simple calculations like unit conversion."
   ]
  },
  {
   "cell_type": "markdown",
   "id": "98446568",
   "metadata": {},
   "source": [
    "## Author Aliaskar Mukazhanov"
   ]
  },
  {
   "cell_type": "markdown",
   "id": "cef51c08",
   "metadata": {},
   "source": [
    "<https://github.com/IdleOscar/BD-MIdterm>"
   ]
  },
  {
   "cell_type": "code",
   "execution_count": null,
   "id": "79ee27c6",
   "metadata": {},
   "outputs": [],
   "source": []
  }
 ],
 "metadata": {
  "kernelspec": {
   "display_name": "Python 3 (ipykernel)",
   "language": "python",
   "name": "python3"
  },
  "language_info": {
   "codemirror_mode": {
    "name": "ipython",
    "version": 3
   },
   "file_extension": ".py",
   "mimetype": "text/x-python",
   "name": "python",
   "nbconvert_exporter": "python",
   "pygments_lexer": "ipython3",
   "version": "3.9.13"
  }
 },
 "nbformat": 4,
 "nbformat_minor": 5
}
